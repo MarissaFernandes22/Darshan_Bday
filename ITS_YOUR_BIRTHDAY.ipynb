{
 "cells": [
  {
   "cell_type": "markdown",
   "metadata": {},
   "source": [
    "# ITS YOUR 30TH BIRTHDAY SON!"
   ]
  },
  {
   "cell_type": "code",
   "execution_count": null,
   "metadata": {},
   "outputs": [],
   "source": [
    "from fastai.vision.widgets import *\n",
    "from IPython.display import Image\n",
    "import webbrowser"
   ]
  },
  {
   "cell_type": "code",
   "execution_count": null,
   "metadata": {},
   "outputs": [],
   "source": [
    "btn_1 = widgets.Button(description='Happy 30th!')\n",
    "lbl_1 = widgets.Label()\n",
    "btn_2 = widgets.Button(description=\"That's good\")\n",
    "lbl_2 = widgets.Label()\n",
    "btn_3 = widgets.Button(description=\"Do you know\")\n",
    "lbl_3 = widgets.Label()\n",
    "btn_4 = widgets.Button(description=\"Which is WHY\")\n",
    "lbl_4 = widgets.Label()\n",
    "btn_5 = widgets.Button(description=\"R U READY?\")\n",
    "lbl_5 = widgets.Label()\n",
    "btn_5 = widgets.Button(description=\"CLICK HERE!!!\")\n",
    "lbl_6 = widgets.Label()\n",
    "\n",
    "out_pl = widgets.Output()\n",
    "out_pl1 = widgets.Output()\n",
    "out_pl2 = widgets.Output()\n",
    "out_pl3 = widgets.Output()\n",
    "out_pl4 = widgets.Output()\n",
    "out_pl5 = widgets.Output()\n",
    "out_pl6 = widgets.Output()\n",
    "out_pl7 = widgets.Output()\n",
    "out_pl8 = widgets.Output()\n",
    "out_pl9 = widgets.Output()"
   ]
  },
  {
   "cell_type": "code",
   "execution_count": null,
   "metadata": {},
   "outputs": [],
   "source": [
    "def on_click_1(change):\n",
    "    lbl_1.value = f'Bet you are here looking for a good time ;-)'\n",
    "    with out_pl: display(Image(filename='darkum.jpg', width = 150, height = 150))\n",
    "    with out_pl1: display(btn_2)\n",
    "    \n",
    "def on_click_2(change):\n",
    "    lbl_2.value = f'Coz we are HERE to show u a great time!'\n",
    "    with out_pl2: display(lbl_2)\n",
    "    with out_pl3: display(btn_3)\n",
    "\n",
    "def on_click_3(change):\n",
    "    lbl_3.value = f'We Love You!'\n",
    "    with out_pl4: display(lbl_3)\n",
    "    with out_pl5: display(btn_3)\n",
    "    with out_pl6: display(btImage(filename='ma.jpg', width = 250, height = 250))\n",
    "    \n",
    "\n",
    "def on_click_4(change):\n",
    "    lbl_4.value = f'We got you a small gift!'\n",
    "    with out_pl7: display(lbl_4)\n",
    "    with out_pl8: display(Image(filename='aby.jpg', width = 400, height = 400))\n",
    "    with out_pl9: display(btn_5)\n",
    "   \n",
    "def on_click_5(change):\n",
    "    url = 'https://www.cameo.com/v/wGM-eY_z-'\n",
    "    webbrowser.open(url)"
   ]
  },
  {
   "cell_type": "code",
   "execution_count": null,
   "metadata": {},
   "outputs": [],
   "source": [
    "btn_1.on_click(on_click_1)\n",
    "btn_2.on_click(on_click_2)\n",
    "btn_3.on_click(on_click_3)\n",
    "btn_4.on_click(on_click_4)\n",
    "btn_5.on_click(on_click_5)"
   ]
  },
  {
   "cell_type": "code",
   "execution_count": null,
   "metadata": {},
   "outputs": [],
   "source": [
    "VBox([widgets.Label('Dearest Darkum, lover of miniature cars, tennis and cycling (and taking FOREVER to choose from the menu at a restaurant)'), \n",
    "      btn_1, lbl_1, out_pl,out_pl1])"
   ]
  },
  {
   "cell_type": "code",
   "execution_count": null,
   "metadata": {},
   "outputs": [],
   "source": []
  }
 ],
 "metadata": {
  "kernelspec": {
   "display_name": "Python 3",
   "language": "python",
   "name": "python3"
  },
  "language_info": {
   "codemirror_mode": {
    "name": "ipython",
    "version": 3
   },
   "file_extension": ".py",
   "mimetype": "text/x-python",
   "name": "python",
   "nbconvert_exporter": "python",
   "pygments_lexer": "ipython3",
   "version": "3.8.5"
  }
 },
 "nbformat": 4,
 "nbformat_minor": 2
}
